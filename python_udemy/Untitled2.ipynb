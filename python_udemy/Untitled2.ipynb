{
 "cells": [
  {
   "cell_type": "code",
   "execution_count": null,
   "metadata": {},
   "outputs": [],
   "source": [
    "import random\n",
    "\n",
    "tries = 0\n",
    "limit = 20\n",
    "\n",
    "numbers = random.randint(1, 20)\n",
    "\n",
    "print ('Try to guess number')\n",
    "\n",
    "while tries < 6:\n",
    "    guess = int(input(\"Imput number\"))\n",
    "    \n",
    "    tries+=1\n",
    "    \n",
    "    if guess > 20:\n",
    "    \n",
    "       print(\"Incorect number, prease enter namber ranged in 1 to 20 \")\n",
    "        break\n",
    "    \n",
    "    if guess < numbers:\n",
    "        print('Number too low')\n",
    "        \n",
    "        \n",
    "    if guess > numbers:\n",
    "        \n",
    "        print('Number too hight')\n",
    "    \n",
    "    if guess == numbers:\n",
    "        \n",
    "        print(f\"You gussed number\")\n",
    "        break\n",
    "        \n",
    "    if guess != numbers and tries == 6:\n",
    "        print(\"Sorry your tryes is empty\")\n",
    "        break\n",
    "    "
   ]
  },
  {
   "cell_type": "code",
   "execution_count": null,
   "metadata": {},
   "outputs": [],
   "source": []
  },
  {
   "cell_type": "code",
   "execution_count": null,
   "metadata": {},
   "outputs": [],
   "source": []
  },
  {
   "cell_type": "code",
   "execution_count": null,
   "metadata": {},
   "outputs": [],
   "source": []
  },
  {
   "cell_type": "code",
   "execution_count": null,
   "metadata": {},
   "outputs": [],
   "source": []
  },
  {
   "cell_type": "code",
   "execution_count": null,
   "metadata": {},
   "outputs": [],
   "source": []
  }
 ],
 "metadata": {
  "kernelspec": {
   "display_name": "Python 3",
   "language": "python",
   "name": "python3"
  },
  "language_info": {
   "codemirror_mode": {
    "name": "ipython",
    "version": 3
   },
   "file_extension": ".py",
   "mimetype": "text/x-python",
   "name": "python",
   "nbconvert_exporter": "python",
   "pygments_lexer": "ipython3",
   "version": "3.7.6"
  }
 },
 "nbformat": 4,
 "nbformat_minor": 4
}
